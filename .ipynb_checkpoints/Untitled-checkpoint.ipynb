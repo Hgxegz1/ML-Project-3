{
 "cells": [
  {
   "cell_type": "markdown",
   "id": "b17bc503",
   "metadata": {},
   "source": [
    "### Group Members:  \n",
    "### Semester:\n",
    "### Section:\n",
    "### Project Number: "
   ]
  },
  {
   "cell_type": "markdown",
   "id": "1fe77d13",
   "metadata": {},
   "source": [
    "## Importing the necessary libraries"
   ]
  },
  {
   "cell_type": "code",
   "execution_count": 2,
   "id": "f22242b1",
   "metadata": {},
   "outputs": [
    {
     "name": "stdout",
     "output_type": "stream",
     "text": [
      "everything imported correctly!\n"
     ]
    }
   ],
   "source": [
    "import numpy as np\n",
    "import matplotlib.pyplot as plt\n",
    "import pandas as pd\n",
    "import sklearn\n",
    "\n",
    "print(\"everything imported correctly!\")\n"
   ]
  },
  {
   "cell_type": "code",
   "execution_count": 60,
   "id": "ea66a080",
   "metadata": {},
   "outputs": [
    {
     "name": "stdout",
     "output_type": "stream",
     "text": [
      "    0          1        2            3        4        5     6          7   \\\n",
      "0  age        job  marital    education  default  housing  loan    contact   \n",
      "1   56  housemaid  married     basic.4y       no       no    no  telephone   \n",
      "2   57   services  married  high.school  unknown       no    no  telephone   \n",
      "3   37   services  married  high.school       no      yes    no  telephone   \n",
      "4   40     admin.  married     basic.6y       no       no    no  telephone   \n",
      "\n",
      "      8            9   ...        11     12        13           14  \\\n",
      "0  month  day_of_week  ...  campaign  pdays  previous     poutcome   \n",
      "1    may          mon  ...         1    999         0  nonexistent   \n",
      "2    may          mon  ...         1    999         0  nonexistent   \n",
      "3    may          mon  ...         1    999         0  nonexistent   \n",
      "4    may          mon  ...         1    999         0  nonexistent   \n",
      "\n",
      "             15              16             17         18           19  20  \n",
      "0  emp.var.rate  cons.price.idx  cons.conf.idx  euribor3m  nr.employed   y  \n",
      "1           1.1          93.994          -36.4      4.857         5191  no  \n",
      "2           1.1          93.994          -36.4      4.857         5191  no  \n",
      "3           1.1          93.994          -36.4      4.857         5191  no  \n",
      "4           1.1          93.994          -36.4      4.857         5191  no  \n",
      "\n",
      "[5 rows x 21 columns]\n"
     ]
    },
    {
     "name": "stderr",
     "output_type": "stream",
     "text": [
      "/Users/devinheng/opt/anaconda3/lib/python3.8/site-packages/IPython/core/interactiveshell.py:3165: DtypeWarning: Columns (0,10,11,12,13,15,16,17,18,19) have mixed types.Specify dtype option on import or set low_memory=False.\n",
      "  has_raised = await self.run_ast_nodes(code_ast.body, cell_name,\n"
     ]
    }
   ],
   "source": [
    "'''STEP 1'''\n",
    "#read the 'bank-additional-full.csv' file\n",
    "\n",
    "#since it is separated my semicolons we need to set the param to ';'\n",
    "df = pd.read_csv('bank-additional-full.csv', sep = ';', header = None)\n",
    "\n",
    "#check the first row\n",
    "print(df.head())\n",
    "y = df.iloc[1:, 20] #this is the output variable dataframe\n",
    "X = df.iloc[1:, 0:20] #this is the rest of the factors except the output variable\n",
    "#print(y)\n",
    "#print(X)"
   ]
  },
  {
   "cell_type": "code",
   "execution_count": 61,
   "id": "6c2dde9b",
   "metadata": {},
   "outputs": [
    {
     "data": {
      "text/plain": [
       "'\\nprint(X_train)\\nprint(X_test)\\nprint(y_train)\\nprint(y_test)\\n'"
      ]
     },
     "execution_count": 61,
     "metadata": {},
     "output_type": "execute_result"
    }
   ],
   "source": [
    "'''STEP 2'''\n",
    "from sklearn.model_selection import train_test_split\n",
    "\n",
    "#we use train_test_split to randomly generate sets and we also split the output value already\n",
    "X_train, X_test, y_train, y_test = train_test_split(X, y, test_size=0.1, random_state=(2021-10-25)) # 20% test, 80% train\n",
    "\n",
    "'''\n",
    "print(X_train)\n",
    "print(X_test)\n",
    "print(y_train)\n",
    "print(y_test)\n",
    "'''\n",
    "\n",
    "\n",
    "\n",
    "\n",
    "\n"
   ]
  },
  {
   "cell_type": "code",
   "execution_count": 62,
   "id": "fccd923e",
   "metadata": {},
   "outputs": [],
   "source": [
    "'''STEP 3'''\n",
    "#drop the 'duration' column from both train and test since it will affect the output highly\n",
    "X_train = X_train.drop([10], axis = 1)\n",
    "X_test = X_test.drop([10], axis = 1)\n"
   ]
  },
  {
   "cell_type": "code",
   "execution_count": 65,
   "id": "fb9240e9",
   "metadata": {},
   "outputs": [
    {
     "name": "stdout",
     "output_type": "stream",
     "text": [
      "22976     5\n",
      "14747     1\n",
      "12506     1\n",
      "6802      2\n",
      "18390     3\n",
      "         ..\n",
      "17988    13\n",
      "20300     5\n",
      "14557     1\n",
      "28982     1\n",
      "32765     5\n",
      "Name: 11, Length: 37069, dtype: object\n"
     ]
    }
   ],
   "source": [
    "print(X_train[11])"
   ]
  },
  {
   "cell_type": "code",
   "execution_count": null,
   "id": "4cb029b2",
   "metadata": {},
   "outputs": [],
   "source": []
  }
 ],
 "metadata": {
  "kernelspec": {
   "display_name": "Python 3",
   "language": "python",
   "name": "python3"
  },
  "language_info": {
   "codemirror_mode": {
    "name": "ipython",
    "version": 3
   },
   "file_extension": ".py",
   "mimetype": "text/x-python",
   "name": "python",
   "nbconvert_exporter": "python",
   "pygments_lexer": "ipython3",
   "version": "3.8.8"
  }
 },
 "nbformat": 4,
 "nbformat_minor": 5
}
